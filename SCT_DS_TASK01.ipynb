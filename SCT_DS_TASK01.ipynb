{
 "cells": [
  {
   "cell_type": "markdown",
   "id": "9bc5e74d-627d-4def-8dd6-bf46eced4194",
   "metadata": {},
   "source": [
    "## SkillCraft Technology (TASK 01)"
   ]
  },
  {
   "cell_type": "markdown",
   "id": "22b898a3-76d1-4be3-9e5a-cce1f2aa4156",
   "metadata": {},
   "source": [
    "### Visual Insights into U.S. Driver License Demographics"
   ]
  },
  {
   "cell_type": "code",
   "execution_count": 1,
   "id": "89fd32c5-2b42-4145-8b4d-dff63e665360",
   "metadata": {},
   "outputs": [],
   "source": [
    "import pandas as pd;\n",
    "import matplotlib.pyplot as plt;"
   ]
  },
  {
   "cell_type": "code",
   "execution_count": 6,
   "id": "8ccf5f20-4760-4d02-a989-631362a4e276",
   "metadata": {},
   "outputs": [
    {
     "data": {
      "text/html": [
       "<div>\n",
       "<style scoped>\n",
       "    .dataframe tbody tr th:only-of-type {\n",
       "        vertical-align: middle;\n",
       "    }\n",
       "\n",
       "    .dataframe tbody tr th {\n",
       "        vertical-align: top;\n",
       "    }\n",
       "\n",
       "    .dataframe thead th {\n",
       "        text-align: right;\n",
       "    }\n",
       "</style>\n",
       "<table border=\"1\" class=\"dataframe\">\n",
       "  <thead>\n",
       "    <tr style=\"text-align: right;\">\n",
       "      <th></th>\n",
       "      <th>Year</th>\n",
       "      <th>Sex</th>\n",
       "      <th>Cohort</th>\n",
       "      <th>State</th>\n",
       "      <th>Drivers</th>\n",
       "    </tr>\n",
       "  </thead>\n",
       "  <tbody>\n",
       "    <tr>\n",
       "      <th>0</th>\n",
       "      <td>2017</td>\n",
       "      <td>Male</td>\n",
       "      <td>Under 16</td>\n",
       "      <td>Alabama</td>\n",
       "      <td>0.0</td>\n",
       "    </tr>\n",
       "    <tr>\n",
       "      <th>1</th>\n",
       "      <td>2017</td>\n",
       "      <td>Male</td>\n",
       "      <td>Under 16</td>\n",
       "      <td>Alaska</td>\n",
       "      <td>0.0</td>\n",
       "    </tr>\n",
       "    <tr>\n",
       "      <th>2</th>\n",
       "      <td>2017</td>\n",
       "      <td>Male</td>\n",
       "      <td>Under 16</td>\n",
       "      <td>Arizona</td>\n",
       "      <td>0.0</td>\n",
       "    </tr>\n",
       "    <tr>\n",
       "      <th>3</th>\n",
       "      <td>2017</td>\n",
       "      <td>Male</td>\n",
       "      <td>Under 16</td>\n",
       "      <td>Arkansas</td>\n",
       "      <td>0.0</td>\n",
       "    </tr>\n",
       "    <tr>\n",
       "      <th>4</th>\n",
       "      <td>2017</td>\n",
       "      <td>Male</td>\n",
       "      <td>Under 16</td>\n",
       "      <td>California</td>\n",
       "      <td>0.0</td>\n",
       "    </tr>\n",
       "  </tbody>\n",
       "</table>\n",
       "</div>"
      ],
      "text/plain": [
       "   Year   Sex    Cohort       State  Drivers\n",
       "0  2017  Male  Under 16     Alabama      0.0\n",
       "1  2017  Male  Under 16      Alaska      0.0\n",
       "2  2017  Male  Under 16     Arizona      0.0\n",
       "3  2017  Male  Under 16    Arkansas      0.0\n",
       "4  2017  Male  Under 16  California      0.0"
      ]
     },
     "execution_count": 6,
     "metadata": {},
     "output_type": "execute_result"
    }
   ],
   "source": [
    "#Load the dataset\n",
    "df=pd.read_csv(\"C:/Users/DELL/Licensed_Drivers.csv\")\n",
    "df.head()"
   ]
  },
  {
   "cell_type": "code",
   "execution_count": 7,
   "id": "0bbe978d-3862-45d2-9577-c008bec4d76b",
   "metadata": {},
   "outputs": [
    {
     "name": "stdout",
     "output_type": "stream",
     "text": [
      "Dataset Shape: (69564, 5)\n",
      "\n",
      "Column Names:\n",
      " ['Year', 'Sex', 'Cohort', 'State', 'Drivers']\n",
      "\n",
      "Missing Values:\n",
      " Year       0\n",
      "Sex        0\n",
      "Cohort     0\n",
      "State      0\n",
      "Drivers    1\n",
      "dtype: int64\n",
      "\n",
      "Data Types:\n",
      " Year         int64\n",
      "Sex         object\n",
      "Cohort      object\n",
      "State       object\n",
      "Drivers    float64\n",
      "dtype: object\n"
     ]
    }
   ],
   "source": [
    "print(\"Dataset Shape:\", df.shape)\n",
    "print(\"\\nColumn Names:\\n\", df.columns.tolist())\n",
    "print(\"\\nMissing Values:\\n\", df.isnull().sum())\n",
    "print(\"\\nData Types:\\n\", df.dtypes)"
   ]
  },
  {
   "cell_type": "code",
   "execution_count": 10,
   "id": "a9618aa6-da77-4385-a208-053c4d828471",
   "metadata": {},
   "outputs": [
    {
     "name": "stdout",
     "output_type": "stream",
     "text": [
      "Shape after removing duplicates: (69520, 5)\n"
     ]
    }
   ],
   "source": [
    "# Drop Duplicate Rows (if any)\n",
    "df = df.drop_duplicates()\n",
    "print(\"Shape after removing duplicates:\", df.shape)"
   ]
  },
  {
   "cell_type": "code",
   "execution_count": 24,
   "id": "55341e97-6e8b-4b3b-b209-708fcd85eb02",
   "metadata": {},
   "outputs": [
    {
     "name": "stderr",
     "output_type": "stream",
     "text": [
      "C:\\Users\\DELL\\AppData\\Local\\Temp\\ipykernel_15180\\1949134679.py:2: SettingWithCopyWarning: \n",
      "A value is trying to be set on a copy of a slice from a DataFrame\n",
      "\n",
      "See the caveats in the documentation: https://pandas.pydata.org/pandas-docs/stable/user_guide/indexing.html#returning-a-view-versus-a-copy\n",
      "  df.fillna({\"Drivers\": df[\"Drivers\"].mean()}, inplace=True)\n"
     ]
    }
   ],
   "source": [
    "# Removing Missing Values\n",
    "df.fillna({\"Drivers\": df[\"Drivers\"].mean()}, inplace=True)"
   ]
  },
  {
   "cell_type": "code",
   "execution_count": 14,
   "id": "d96c719a-6208-4473-899f-7e8f8794709e",
   "metadata": {},
   "outputs": [
    {
     "name": "stdout",
     "output_type": "stream",
     "text": [
      "\n",
      "Missing Values:\n",
      " Year       0\n",
      "Sex        0\n",
      "Cohort     0\n",
      "State      0\n",
      "Drivers    0\n",
      "dtype: int64\n"
     ]
    }
   ],
   "source": [
    "print(\"\\nMissing Values:\\n\", df.isnull().sum())\n"
   ]
  },
  {
   "cell_type": "markdown",
   "id": "30e35fc1-41a6-49ce-88f7-351fcd935da5",
   "metadata": {},
   "source": [
    "#  Bar Chart – Drivers by Gender"
   ]
  },
  {
   "cell_type": "code",
   "execution_count": 16,
   "id": "3294c197-9958-4d9e-92c0-23b7dab32358",
   "metadata": {},
   "outputs": [],
   "source": [
    "# Group by gender and sum\n",
    "gender_counts = df.groupby('Sex')['Drivers'].sum()"
   ]
  },
  {
   "cell_type": "code",
   "execution_count": 17,
   "id": "0206924d-16b7-4364-9915-5ac85b210ad3",
   "metadata": {},
   "outputs": [
    {
     "data": {
      "image/png": "[encoded data removed]",
      "text/plain": [
       "<Figure size 640x480 with 1 Axes>"
      ]
     },
     "metadata": {},
     "output_type": "display_data"
    }
   ],
   "source": [
    "# Plot\n",
    "gender_counts.plot(kind='bar', color=['skyblue', 'lightpink'], edgecolor='black')\n",
    "plt.title('Total Licensed Drivers by Gender')\n",
    "plt.xlabel('Gender')\n",
    "plt.ylabel('Number of Licensed Drivers')\n",
    "plt.xticks(rotation=0)\n",
    "plt.tight_layout()\n",
    "plt.show()"
   ]
  },
  {
   "cell_type": "markdown",
   "id": "52f7b356-5f77-4c0a-af1f-bdee95c19892",
   "metadata": {},
   "source": [
    "# Histogram – Drivers by Age Group"
   ]
  },
  {
   "cell_type": "code",
   "execution_count": 19,
   "id": "4834cca5-ac5f-41d5-b5c1-560294b8fcaf",
   "metadata": {},
   "outputs": [],
   "source": [
    "# Group by age group and sum\n",
    "age_group_counts = df.groupby('Cohort')['Drivers'].sum()"
   ]
  },
  {
   "cell_type": "code",
   "execution_count": 23,
   "id": "96ab4a56-31d8-4223-971b-73e3208808e4",
   "metadata": {},
   "outputs": [
    {
     "data": {
      "image/png": "[encoded data removed]",
      "text/plain": [
       "<Figure size 640x480 with 1 Axes>"
      ]
     },
     "metadata": {},
     "output_type": "display_data"
    }
   ],
   "source": [
    "# Plot\n",
    "age_group_counts.sort_index().plot(kind='bar', color='orange', edgecolor='black')\n",
    "plt.title('Total Licensed Drivers by Age Group')\n",
    "plt.xlabel('Age Group')\n",
    "plt.ylabel('Number of Licensed Drivers')\n",
    "plt.xticks(rotation=75)\n",
    "plt.tight_layout()\n",
    "plt.show()"
   ]
  },
  {
   "cell_type": "code",
   "execution_count": null,
   "id": "cff92a27-d3b2-44c2-8ce4-8b1c070850ca",
   "metadata": {},
   "outputs": [],
   "source": []
  }
 ],
 "metadata": {
  "kernelspec": {
   "display_name": "Python 3 (ipykernel)",
   "language": "python",
   "name": "python3"
  },
  "language_info": {
   "codemirror_mode": {
    "name": "ipython",
    "version": 3
   },
   "file_extension": ".py",
   "mimetype": "text/x-python",
   "name": "python",
   "nbconvert_exporter": "python",
   "pygments_lexer": "ipython3",
   "version": "3.13.1"
  }
 },
 "nbformat": 4,
 "nbformat_minor": 5
}
